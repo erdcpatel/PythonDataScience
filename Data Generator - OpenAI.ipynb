{
 "cells": [
  {
   "cell_type": "markdown",
   "id": "3e849e7b",
   "metadata": {},
   "source": [
    "## Data Generator using openAI"
   ]
  },
  {
   "cell_type": "markdown",
   "id": "8b9f008b",
   "metadata": {},
   "source": [
    "### Setup"
   ]
  },
  {
   "cell_type": "code",
   "execution_count": 4,
   "id": "1987cd68",
   "metadata": {},
   "outputs": [],
   "source": [
    "import openai\n",
    "import os\n",
    "\n",
    "openai.api_key  = 'sk-****' #os.getenv('OPENAI_API_KEY')"
   ]
  },
  {
   "cell_type": "code",
   "execution_count": 5,
   "id": "45caa4ca",
   "metadata": {},
   "outputs": [],
   "source": [
    "def get_completion(prompt, model=\"gpt-3.5-turbo\", temperature=0): \n",
    "    messages = [{\"role\": \"user\", \"content\": prompt}]\n",
    "    response = openai.ChatCompletion.create(\n",
    "        model=model,\n",
    "        messages=messages,\n",
    "        temperature=temperature, \n",
    "    )\n",
    "    return response.choices[0].message[\"content\"]"
   ]
  },
  {
   "cell_type": "markdown",
   "id": "0637e305",
   "metadata": {},
   "source": [
    "### Generate Data"
   ]
  },
  {
   "cell_type": "code",
   "execution_count": 6,
   "id": "74af651f",
   "metadata": {},
   "outputs": [
    {
     "name": "stdout",
     "output_type": "stream",
     "text": [
      "\n",
      "\n",
      "Prompt: Act as accurate data generator tool and denerate data in JSON format with the following fields: Name, Age, Department. \n",
      "    Sample record: {\"Name\": \"Dhaval\", \"Age\": 32, \"Department\": \"IT\"}.\n",
      "    Additinal Instructions : Possible values for Department are IT,CE,EC and ME\n",
      "    Generate 10 records and response should be valid JSON format.\n",
      "    Please do not include any numbering or additional text in response\"\n",
      "\n",
      "Response: {\"records\": [\n",
      "    {\"Name\": \"John\", \"Age\": 25, \"Department\": \"IT\"},\n",
      "    {\"Name\": \"Emily\", \"Age\": 28, \"Department\": \"CE\"},\n",
      "    {\"Name\": \"Michael\", \"Age\": 30, \"Department\": \"EC\"},\n",
      "    {\"Name\": \"Sophia\", \"Age\": 27, \"Department\": \"ME\"},\n",
      "    {\"Name\": \"Daniel\", \"Age\": 32, \"Department\": \"IT\"},\n",
      "    {\"Name\": \"Olivia\", \"Age\": 26, \"Department\": \"CE\"},\n",
      "    {\"Name\": \"Matthew\", \"Age\": 29, \"Department\": \"EC\"},\n",
      "    {\"Name\": \"Ava\", \"Age\": 31, \"Department\": \"ME\"},\n",
      "    {\"Name\": \"William\", \"Age\": 24, \"Department\": \"IT\"},\n",
      "    {\"Name\": \"Emma\", \"Age\": 33, \"Department\": \"CE\"}\n",
      "]}\n",
      "\n",
      "\n",
      "Prompt: Act as accurate data generator tool and denerate data in CSV format with the following fields: Name, Age, Department. \n",
      "    Sample record: Dhaval,32,IT.\n",
      "    Additinal Instructions : Possible values for Department are IT,CE,EC and ME and have indian names for Name\n",
      "    Generate 10 records and response should be valid CSV format.\n",
      "    Please do not include any numbering or additional text in response\"\n",
      "\n",
      "Response: Dhaval,32,IT\n",
      "Neha,28,CE\n",
      "Rahul,35,EC\n",
      "Priya,30,ME\n",
      "Amit,29,IT\n",
      "Sneha,31,CE\n",
      "Rajesh,33,EC\n",
      "Anjali,27,ME\n",
      "Vikram,34,IT\n",
      "Pooja,26,CE\n"
     ]
    }
   ],
   "source": [
    "# Function to generate structured data\n",
    "def generate_data(format, fields, sample, additional_ins, num_records=10, temperature=0.7):\n",
    "    \n",
    "    prompt = f'''Act as accurate data generator tool and denerate data in {format} format with the following fields: {', '.join(fields)}. \n",
    "    Sample record: {sample}.\n",
    "    Additinal Instructions : {additional_ins}\n",
    "    Generate {num_records} records and response should be valid {format} format.\n",
    "    Please do not include any numbering or additional text in response\"'''\n",
    "    \n",
    "    print(\"\\n\\nPrompt: {}\".format(prompt))\n",
    "    \n",
    "    response = get_completion(prompt)\n",
    "    \n",
    "    return response\n",
    "    \n",
    "    \n",
    "\n",
    "sample_format = \"JSON\"\n",
    "sample_fields = [\"Name\", \"Age\", \"Department\"]\n",
    "num_records = 10  # Number of records you want to generate\n",
    "sample_record = '{\"Name\": \"Dhaval\", \"Age\": 32, \"Department\": \"IT\"}'\n",
    "additional_ins = \"Possible values for Department are IT,CE,EC and ME\"\n",
    "\n",
    "response = generate_data(sample_format, sample_fields, sample_record, additional_ins, num_records)\n",
    "\n",
    "print(\"\\nResponse: {}\".format(response))\n",
    "\n",
    "\n",
    "sample_record = 'Dhaval,32,IT'\n",
    "sample_format = \"CSV\"\n",
    "additional_ins = \"Possible values for Department are IT,CE,EC and ME and have indian names for Name\"\n",
    "\n",
    "response = generate_data(sample_format, sample_fields, sample_record, additional_ins, num_records)\n",
    "\n",
    "print(\"\\nResponse: {}\".format(response))\n"
   ]
  },
  {
   "cell_type": "markdown",
   "id": "640988db",
   "metadata": {},
   "source": [
    "### References:\n",
    "\n",
    "* https://platform.openai.com/account/api-keys\n",
    "* https://openai.com/pricing\n"
   ]
  },
  {
   "cell_type": "code",
   "execution_count": null,
   "id": "0d86dcab",
   "metadata": {},
   "outputs": [],
   "source": []
  }
 ],
 "metadata": {
  "kernelspec": {
   "display_name": "gpt",
   "language": "python",
   "name": "gpt"
  },
  "language_info": {
   "codemirror_mode": {
    "name": "ipython",
    "version": 3
   },
   "file_extension": ".py",
   "mimetype": "text/x-python",
   "name": "python",
   "nbconvert_exporter": "python",
   "pygments_lexer": "ipython3",
   "version": "3.8.16"
  }
 },
 "nbformat": 4,
 "nbformat_minor": 5
}
