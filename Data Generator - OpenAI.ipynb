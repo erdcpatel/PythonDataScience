{
 "cells": [
  {
   "cell_type": "markdown",
   "id": "3e849e7b",
   "metadata": {},
   "source": [
    "## Data Generator using openAI"
   ]
  },
  {
   "cell_type": "markdown",
   "id": "20083df3",
   "metadata": {},
   "source": [
    "### References:\n",
    "\n",
    "* API Key - https://platform.openai.com/\n",
    "* Available Models and Pricing - https://openai.com/pricing"
   ]
  },
  {
   "cell_type": "markdown",
   "id": "8b9f008b",
   "metadata": {},
   "source": [
    "### Setup"
   ]
  },
  {
   "cell_type": "code",
   "execution_count": 1,
   "id": "1987cd68",
   "metadata": {},
   "outputs": [],
   "source": [
    "import openai\n",
    "import os\n",
    "\n",
    "#OpenAI API Key\n",
    "openai.api_key  = '***' #os.getenv('OPENAI_API_KEY')"
   ]
  },
  {
   "cell_type": "code",
   "execution_count": 2,
   "id": "45caa4ca",
   "metadata": {},
   "outputs": [],
   "source": [
    "def get_completion(prompt, model=\"gpt-3.5-turbo\", temperature=0): \n",
    "    messages = [{\"role\": \"user\", \"content\": prompt}]\n",
    "    response = openai.ChatCompletion.create(\n",
    "        model=model,\n",
    "        messages=messages,\n",
    "        temperature=temperature, \n",
    "    )\n",
    "    return response.choices[0].message[\"content\"]"
   ]
  },
  {
   "cell_type": "markdown",
   "id": "0637e305",
   "metadata": {},
   "source": [
    "### Generate Data"
   ]
  },
  {
   "cell_type": "code",
   "execution_count": 3,
   "id": "74af651f",
   "metadata": {},
   "outputs": [
    {
     "name": "stdout",
     "output_type": "stream",
     "text": [
      "\n",
      "\n",
      "Prompt: Act as accurate data generator tool and denerate data in JSON format with the following fields: client, tradedate, oil_price. \n",
      "    Sample record: {\"client\": \"Fidelity International\", \"tradedate\": 1 Oct 2023, \"oil_price\": \"100$\"}.\n",
      "    Additinal Instructions : Assume that war may impact the cruid oil price between US ans Iran\n",
      "    Generate 10 records and response should be valid JSON format.\n",
      "    Please do not include any numbering or additional text in response\n",
      "\n",
      "Response: {\"data\": [\n",
      "    {\"client\": \"Fidelity International\", \"tradedate\": \"1 Oct 2023\", \"oil_price\": \"100$\"},\n",
      "    {\"client\": \"BlackRock\", \"tradedate\": \"2 Oct 2023\", \"oil_price\": \"98$\"},\n",
      "    {\"client\": \"Vanguard Group\", \"tradedate\": \"3 Oct 2023\", \"oil_price\": \"105$\"},\n",
      "    {\"client\": \"State Street Global Advisors\", \"tradedate\": \"4 Oct 2023\", \"oil_price\": \"102$\"},\n",
      "    {\"client\": \"JP Morgan Asset Management\", \"tradedate\": \"5 Oct 2023\", \"oil_price\": \"99$\"},\n",
      "    {\"client\": \"Bank of America Merrill Lynch\", \"tradedate\": \"6 Oct 2023\", \"oil_price\": \"97$\"},\n",
      "    {\"client\": \"Goldman Sachs\", \"tradedate\": \"7 Oct 2023\", \"oil_price\": \"103$\"},\n",
      "    {\"client\": \"Morgan Stanley\", \"tradedate\": \"8 Oct 2023\", \"oil_price\": \"101$\"},\n",
      "    {\"client\": \"UBS Group\", \"tradedate\": \"9 Oct 2023\", \"oil_price\": \"104$\"},\n",
      "    {\"client\": \"Citigroup\", \"tradedate\": \"10 Oct 2023\", \"oil_price\": \"96$\"}\n",
      "]}\n",
      "\n",
      "\n",
      "Prompt: Act as accurate data generator tool and denerate data in CSV format with the following fields: client, tradedate, oil_price. \n",
      "    Sample record: Fidelity International,1 Oct 2023,100$.\n",
      "    Additinal Instructions : Assume that war may impact the cruid oil price between US ans Iran\n",
      "    Generate 10 records and response should be valid CSV format.\n",
      "    Please do not include any numbering or additional text in response\n",
      "\n",
      "Response:\n",
      " client,tradedate,oil_price\n",
      "Fidelity International,1 Oct 2023,100$\n",
      "BlackRock,15 Nov 2023,95$\n",
      "Vanguard Group,30 Dec 2023,105$\n",
      "State Street Global Advisors,14 Jan 2024,98$\n",
      "JP Morgan Asset Management,28 Feb 2024,110$\n",
      "Bank of America Global Research,15 Mar 2024,93$\n",
      "Goldman Sachs Asset Management,30 Apr 2024,115$\n",
      "Morgan Stanley Investment Management,15 May 2024,90$\n",
      "UBS Global Wealth Management,30 Jun 2024,120$\n",
      "Credit Suisse Asset Management,15 Jul 2024,85$\n"
     ]
    }
   ],
   "source": [
    "# Function to generate structured data\n",
    "def generate_data(format, fields, sample, additional_ins, num_records=10, temperature=0.7):\n",
    "    \n",
    "    prompt = f'''Act as accurate data generator tool and denerate data in {format} format with the following fields: {', '.join(fields)}. \n",
    "    Sample record: {sample}.\n",
    "    Additinal Instructions : {additional_ins}\n",
    "    Generate {num_records} records and response should be valid {format} format.\n",
    "    Please do not include any numbering or additional text in response'''\n",
    "    \n",
    "    print(\"\\n\\nPrompt: {}\".format(prompt))\n",
    "    \n",
    "    response = get_completion(prompt)\n",
    "    \n",
    "    return response\n",
    "    \n",
    "    \n",
    "\n",
    "sample_format = \"JSON\"\n",
    "sample_fields = [\"client\", \"tradedate\", \"oil_price\"]\n",
    "num_records = 10  # Number of records you want to generate\n",
    "sample_record = '{\"client\": \"Fidelity International\", \"tradedate\": 1 Oct 2023, \"oil_price\": \"100$\"}'\n",
    "additional_ins = \"Assume that war may impact the cruid oil price between US ans Iran\"\n",
    "\n",
    "response = generate_data(sample_format, sample_fields, sample_record, additional_ins, num_records)\n",
    "\n",
    "print(\"\\nResponse: {}\".format(response))\n",
    "\n",
    "\n",
    "sample_record = 'Fidelity International,1 Oct 2023,100$'\n",
    "sample_format = \"CSV\"\n",
    "additional_ins = \"Assume that war may impact the cruid oil price between US ans Iran\"\n",
    "\n",
    "response = generate_data(sample_format, sample_fields, sample_record, additional_ins, num_records)\n",
    "\n",
    "print(\"\\nResponse:\\n {}\".format(response))\n"
   ]
  },
  {
   "cell_type": "code",
   "execution_count": null,
   "id": "0d86dcab",
   "metadata": {},
   "outputs": [],
   "source": []
  }
 ],
 "metadata": {
  "kernelspec": {
   "display_name": "gpt",
   "language": "python",
   "name": "gpt"
  },
  "language_info": {
   "codemirror_mode": {
    "name": "ipython",
    "version": 3
   },
   "file_extension": ".py",
   "mimetype": "text/x-python",
   "name": "python",
   "nbconvert_exporter": "python",
   "pygments_lexer": "ipython3",
   "version": "3.8.16"
  }
 },
 "nbformat": 4,
 "nbformat_minor": 5
}
